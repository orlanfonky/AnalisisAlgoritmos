{
 "cells": [
  {
   "cell_type": "markdown",
   "metadata": {},
   "source": [
    "## PROYECTO DE ANALISIS DE ALGORITMOS. SEGUNDA ENTREGA\n",
    "\n",
    "\n",
    "### Orlando Abaunza Ubaque\n",
    "### Pablo Robayo"
   ]
  },
  {
   "cell_type": "markdown",
   "metadata": {},
   "source": [
    "### 1. Cliques en Grafos\n",
    "\n",
    "##### Primero se calcula la distancia de hamming, para despues mediante la funcion find_cliques(G) de la libreria \"networkx\" calcular el numero de cliques en el grafo de hamming H.\n"
   ]
  },
  {
   "cell_type": "code",
   "execution_count": 133,
   "metadata": {
    "collapsed": false,
    "scrolled": true,
    "slideshow": {
     "slide_type": "subslide"
    }
   },
   "outputs": [
    {
     "name": "stdout",
     "output_type": "stream",
     "text": [
      "Cliques:  [['011', '100', '101', '001', '110', '000', '111', '010']]\n",
      "# de Cliques:  8\n"
     ]
    }
   ],
   "source": [
    "import networkx\n",
    "import itertools\n",
    "import logging\n",
    "import time\n",
    "import math\n",
    "import numpy as np\n",
    "import pylab as pl\n",
    "\n",
    "\n",
    "def hamming(tam, d):\n",
    "    H = networkx.Graph()\n",
    "    l = [\"01\"] * tam \n",
    "    nodes = itertools.product(*l)\n",
    "    nodes = [''.join(x) for x in nodes]\n",
    "    H.add_nodes_from(nodes) \n",
    "    \n",
    "    for node in H.nodes():        \n",
    "        for v in H.nodes():\n",
    "            if(v != node):\n",
    "                dist = h_distance(node, v)\n",
    "                if(dist >= d):\n",
    "                    H.add_edge(node,v)\n",
    "    \n",
    "    return H\n",
    "\n",
    "def h_distance(str1, str2):        \n",
    "        distance = 0\n",
    "        for ch1, ch2 in zip(str1, str2):\n",
    "                if ch1 != ch2:\n",
    "                        distance += 1\n",
    "        return distance\n",
    "    \n",
    "def mutate_node(node, n):\n",
    "    if node[n] == '0':\n",
    "        base = '1'\n",
    "    else:\n",
    "        base = '0'\n",
    "    new_node = node[0:n] + base + node[n+1:]\n",
    "    return new_node\n",
    "\n",
    "\n",
    "H = hamming(3,1)\n",
    "\n",
    "print (\"Cliques: \",list(networkx.find_cliques(H))) \n",
    "print (\"# de Cliques: \" ,networkx.graph_clique_number(H))"
   ]
  },
  {
   "cell_type": "markdown",
   "metadata": {
    "collapsed": true
   },
   "source": [
    "#### Analisis "
   ]
  },
  {
   "cell_type": "code",
   "execution_count": 78,
   "metadata": {
    "collapsed": false,
    "scrolled": false
   },
   "outputs": [
    {
     "data": {
      "image/png": "[encoded data removed]",
      "text/plain": [
       "<matplotlib.figure.Figure at 0xd78cd15470>"
      ]
     },
     "metadata": {},
     "output_type": "display_data"
    }
   ],
   "source": [
    "def exper_analys(A):\n",
    "    R = []\n",
    "    for i in range(N):\n",
    "        tic = time.clock()\n",
    "        H = hamming(i,10)\n",
    "        networkx.graph_clique_number(H)\n",
    "        toc = time.clock()\n",
    "        R.append(toc - tic)\n",
    "    return R\n",
    "\n",
    "N = 8\n",
    "pl.clf()\n",
    "x = np.arange(N)\n",
    "y = np.array(exper_analys(N))\n",
    "pl.plot(x, y, '-r')\n",
    "pl.show()"
   ]
  },
  {
   "cell_type": "markdown",
   "metadata": {
    "collapsed": true
   },
   "source": [
    "### 2. MST Arbol de minima expansión\n",
    "##### Primero ordenamos las aristas del grafo de forma ascendente. A partir de la lista de dichas aristas crearemos el arbol de minima expansión (MST)\n",
    "##### Tiene un tiempo de ejecucion asintotico del orden O(2nm^2)"
   ]
  },
  {
   "cell_type": "code",
   "execution_count": 112,
   "metadata": {
    "collapsed": true
   },
   "outputs": [],
   "source": [
    "def open_file(fileName):\n",
    "    lines = [line.rstrip('\\n') for line in open(fileName)]\n",
    "    N = int(lines[0])\n",
    "    K = int(lines[1])\n",
    "    L = []\n",
    "    \n",
    "    i = 0\n",
    "    for l in lines[2:]:\n",
    "        t = l.split(',',N - i)\n",
    "        i -= 1\n",
    "        q = (i * -1) - 1\n",
    "        for j in t:\n",
    "            if(j != \"Inf\"):\n",
    "                tokens = j.split('/',1)\n",
    "                u = ((i * -1) - 1)\n",
    "                L.append((u,q, int(tokens[0]) , tokens[1]))\n",
    "            q+=1\n",
    "    return N, K, L"
   ]
  },
  {
   "cell_type": "code",
   "execution_count": 113,
   "metadata": {
    "collapsed": true
   },
   "outputs": [],
   "source": [
    "class arista:\n",
    "    def __init__(self,origen,destino,color,peso):\n",
    "        self.origen=origen\n",
    "        self.destino=destino\n",
    "        self.color=color\n",
    "        self.peso=peso\n",
    "        \n",
    "def ordenamiento(l):\n",
    "    for c in range(1,len(l)):\n",
    "        for x in range(len(l)-1):\n",
    "            if l[x].peso>l[x+1].peso:\n",
    "                aux=l[x]\n",
    "                l[x]=l[x+1]\n",
    "                l[x+1]=aux\n",
    "\n",
    "        \n",
    "def listarAristas(graph):\n",
    "    lista=[]\n",
    "    repetido=[]\n",
    "    for u in graph:\n",
    "        origen=u\n",
    "        for v in graph[u]:\n",
    "            destino=v\n",
    "            for x in graph[u][v]:\n",
    "                if(x=='R' or x=='B'):\n",
    "                    color=x\n",
    "                else:\n",
    "                    peso=x\n",
    "            if(not destino in repetido):        \n",
    "                a=arista(origen,destino,color,peso)\n",
    "                lista.append(a)\n",
    "        repetido.append(origen)\n",
    "    ordenamiento(lista)\n",
    "    return lista"
   ]
  },
  {
   "cell_type": "code",
   "execution_count": 135,
   "metadata": {
    "collapsed": true
   },
   "outputs": [],
   "source": [
    "def armarArbol(lista,k,n):\n",
    "    azules=k\n",
    "    rojas=n-k-1\n",
    "    cblue=0\n",
    "    cred=0\n",
    "    resp=[]\n",
    "    valor=0\n",
    "    print(\"K:\",k)\n",
    "    print(\"n-k-1:\",rojas)\n",
    "    for i in lista:\n",
    "        introducir=False\n",
    "        if(i.color=='R'):\n",
    "            if(cred<rojas):\n",
    "                introducir=True\n",
    "                cred=cred+1\n",
    "        elif(i.color=='B'):\n",
    "            if(cblue<azules):\n",
    "                introducir=True\n",
    "                cblue=cblue+1\n",
    "        if(introducir):\n",
    "            arbol={i.origen:{i.destino: i.color}}\n",
    "            resp.append(arbol)\n",
    "            valor=valor+i.peso\n",
    "    print(\"Peso: \",valor)\n",
    "    print(\"Aristas Azules: \",cblue)\n",
    "    print(\"Aristas Rojas: \",cred)\n",
    "    return resp;\n",
    "\n",
    "def arbolMinimaExpansion(graph,n,k):\n",
    "    listAristas=listarAristas(graph)\n",
    "    arbol=armarArbol(listAristas,k,n)\n",
    "    return arbol;"
   ]
  },
  {
   "cell_type": "code",
   "execution_count": 136,
   "metadata": {
    "collapsed": false,
    "scrolled": true
   },
   "outputs": [
    {
     "name": "stdout",
     "output_type": "stream",
     "text": [
      "K: 5\n",
      "K: 5\n",
      "n-k-1: 2\n",
      "Peso:  22\n",
      "Aristas Azules:  5\n",
      "Aristas Rojas:  2\n",
      "[{1: {5: 'R'}}, {6: {7: 'B'}}, {1: {2: 'R'}}, {1: {3: 'B'}}, {0: {4: 'B'}}, {2: {6: 'B'}}, {2: {4: 'B'}}]\n"
     ]
    }
   ],
   "source": [
    "graph,nod,color=openFile(\"input_n8_b5_r2\")\n",
    "aristas=listarAristas(graph)\n",
    "print (armarArbol(aristas,color,nod))"
   ]
  },
  {
   "cell_type": "code",
   "execution_count": 132,
   "metadata": {
    "collapsed": false,
    "scrolled": true
   },
   "outputs": [
    {
     "name": "stdout",
     "output_type": "stream",
     "text": [
      "Peso:  21\n",
      "Aristas Azules:  4\n",
      "Aristas Rojas:  3\n",
      "[{1: {5: 'R'}}, {6: {7: 'B'}}, {1: {2: 'R'}}, {1: {3: 'B'}}, {0: {4: 'B'}}, {2: {6: 'B'}}, {0: {2: 'R'}}]\n"
     ]
    }
   ],
   "source": [
    "graph,nod,color=openFile(\"input_n8_b4_r3\")\n",
    "aristas=listarAristas(graph)\n",
    "print (armarArbol(aristas,color,nod))"
   ]
  }
 ],
 "metadata": {
  "anaconda-cloud": {},
  "celltoolbar": "Slideshow",
  "kernelspec": {
   "display_name": "Python 3",
   "language": "python",
   "name": "python3"
  },
  "language_info": {
   "codemirror_mode": {
    "name": "ipython",
    "version": 3
   },
   "file_extension": ".py",
   "mimetype": "text/x-python",
   "name": "python",
   "nbconvert_exporter": "python",
   "pygments_lexer": "ipython3",
   "version": "3.6.0"
  }
 },
 "nbformat": 4,
 "nbformat_minor": 1
}
