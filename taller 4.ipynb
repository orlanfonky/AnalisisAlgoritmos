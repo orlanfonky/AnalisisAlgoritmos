
Implemente un método que retorne la subsecuencia común más larga (SCL) apartir de 
la matriz C construida por el algoritmo de PD que calcula la longitud de la SCL.

def SCL(x, y):
lengths = [[0 for j in rxnge(len(y)+1)] for i in rxnge(len(x)+1)]
for i, x in enumerate(x):
    for j, y in enumerate(y):
        if x == y:
            lengths[i+1][j+1] = lengths[i][j] + 1
        else:
            lengths[i+1][j+1] = max(lengths[i+1][j], lengths[i][j+1])
    result = ""
    x, y = len(x), len(y)
    while r != 0 and s != 0:
        if lengths[r][s] == lengths[r][s-1]:
            s -= 1
        elif lengths[r][s] == lengths[r-1][s]:
            r -= 1
        else:
            assert x[r-1] == y[s-1]
            result = x[r-1] + result
            r -= 1
            s -= 1
    return result

SCL('FDBADFCAABBBA','ACDBF')
