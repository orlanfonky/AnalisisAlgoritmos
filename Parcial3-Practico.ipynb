{
 "cells": [
  {
   "cell_type": "markdown",
   "metadata": {},
   "source": [
    "<h1>Parcial 3 (Parte Practica)</h1>\n",
    "<h2>Orlando Abaunza Ubaque</h2>"
   ]
  },
  {
   "cell_type": "markdown",
   "metadata": {},
   "source": [
    " (1.25) Describa un algoritmo que determine en tiempo O(n2lg n) si existen tres puntos colineales de un\n",
    "conjunto de n puntos dados."
   ]
  },
  {
   "cell_type": "code",
   "execution_count": 19,
   "metadata": {
    "collapsed": true
   },
   "outputs": [],
   "source": [
    "import numpy as np\n",
    "import math\n",
    "%matplotlib inline"
   ]
  },
  {
   "cell_type": "markdown",
   "metadata": {},
   "source": [
    "<h5>ALgoritmo:</h5>\n",
    "Este algoritmo asigna la pendiente de cada punto p en una arreglo de arreglos \"m\", despues comprueba que\n",
    "Tomar el punto p como el origen [0,0].\n",
    "Para cada punto q, determinar el ángulo que forma con p.\n",
    "Clasificar los puntos en función de los ángulos que forma con p.\n",
    "comprobar si cualquiera de los puntos tienen ángulos iguales con p. Si es así, estos puntos, junto con p, son colineales"
   ]
  },
  {
   "cell_type": "code",
   "execution_count": 49,
   "metadata": {
    "collapsed": false
   },
   "outputs": [],
   "source": [
    "def Colin(l):\n",
    "    t=len(l)\n",
    "    m=np.zeros((t,t))\n",
    "    for i in range(t):\n",
    "        for j in range(t):\n",
    "            if i!=j:\n",
    "                if l[j][0]-l[i][0]!=0:\n",
    "                    m[i][j]=(l[j][1]-l[i][1])/(l[j][0]-l[i][0])\n",
    "                else:\n",
    "                    m[i][j]=-float('inf')\n",
    "            else:\n",
    "                m[i][j]=-float('inf')\n",
    "\n",
    "    cmp={}\n",
    "    for i in range(t):\n",
    "        for j in range(t):\n",
    "            if i!=j:\n",
    "                if m[i][j]!=-float('inf'):\n",
    "                    if (cmp.get(m[i][j])):\n",
    "                        \n",
    "                        return True\n",
    "                    else:\n",
    "                        cmp[m[i][j]]=1\n",
    "        cmp.clear()\n",
    "    return False"
   ]
  },
  {
   "cell_type": "code",
   "execution_count": 48,
   "metadata": {
    "collapsed": false
   },
   "outputs": [
    {
     "name": "stdout",
     "output_type": "stream",
     "text": [
      "Existen 3 puntos colineales\n"
     ]
    }
   ],
   "source": [
    "p1=[0,0]\n",
    "p2=[1,1]\n",
    "p3=[2,2]\n",
    "p4=[3,3]\n",
    "p5=[4,5]\n",
    "puntos=[p1,p2,p3,p4,p5]\n",
    "if Colin(puntos):\n",
    "    print ('Existen 3 puntos colineales')\n",
    "else:\n",
    "    print ('No hay puntos colineales')\n",
    "                        "
   ]
  },
  {
   "cell_type": "markdown",
   "metadata": {},
   "source": [
    "<h1>Punto 2</h1>\n",
    "(1.25) Diseñe un algoritmo que en tiempo O(n lg n) pueda determinar si un poligono definido por una\n",
    "secuencia de n puntos es simple (sus segmentos no se intersectan entre si)."
   ]
  },
  {
   "cell_type": "code",
   "execution_count": 104,
   "metadata": {
    "collapsed": false
   },
   "outputs": [],
   "source": [
    "def gono_simple(X,Y):\n",
    "    f=1\n",
    "    for i in range(0, len(X)):\n",
    "        for j in range(i+1, len(X)):\n",
    "            for k in range(j+1, len(X)):\n",
    "                    tmp1=max(min(X[i],X[j]),min(X[j],X[k]));\n",
    "                    tmp2=min(max(X[i],X[j]),max(X[j],X[k]));\n",
    "                    \n",
    "                    if((X[i]-X[j])!=0 and (X[j]-X[k])!=0):\n",
    "                        ma=(Y[i]-Y[j])/(X[i]-X[j]);\n",
    "                        mb=(Y[j]-Y[k])/(X[j]-X[k]);\n",
    "                        tri1=Y[i]-ma*X[i]; \n",
    "                        tri2=Y[j]-mb*X[j]; \n",
    "                        \n",
    "                        if (ma-mb!=0):\n",
    "                            tmp3=(tri2-tri1)/(ma-mb);\n",
    "                            if (tmp3<tmp1 or tmp3>tmp2):                                \n",
    "                                f=0\n",
    "                      \n",
    "    if f==1:\n",
    "        return True\n",
    "    else:       \n",
    "        return False"
   ]
  },
  {
   "cell_type": "code",
   "execution_count": 108,
   "metadata": {
    "collapsed": false,
    "scrolled": false
   },
   "outputs": [
    {
     "name": "stdout",
     "output_type": "stream",
     "text": [
      "EL poligono es simple.\n"
     ]
    }
   ],
   "source": [
    "\n",
    "a=[1, 2, 3]\n",
    "b=[5, 4, 6]\n",
    "\n",
    "if gono_simple(a,b):\n",
    "    print (\"EL poligono es simple.\")\n",
    "else:\n",
    "    \n",
    "    print (\"EL poligono es No simple.\")\n"
   ]
  },
  {
   "cell_type": "code",
   "execution_count": 109,
   "metadata": {
    "collapsed": false
   },
   "outputs": [
    {
     "name": "stdout",
     "output_type": "stream",
     "text": [
      "EL poligono es No simple.\n"
     ]
    }
   ],
   "source": [
    "c=[1, 2, 3,4,43, 1]\n",
    "d=[1, 2, 3,4 ,5, 1]\n",
    "\n",
    "if gono_simple(c,d):\n",
    "    print (\"EL poligono es simple.\")\n",
    "else:\n",
    "    \n",
    "    print (\"EL poligono es No simple.\")\n"
   ]
  },
  {
   "cell_type": "code",
   "execution_count": null,
   "metadata": {
    "collapsed": true
   },
   "outputs": [],
   "source": []
  }
 ],
 "metadata": {
  "anaconda-cloud": {},
  "kernelspec": {
   "display_name": "Python 3",
   "language": "python",
   "name": "python3"
  },
  "language_info": {
   "codemirror_mode": {
    "name": "ipython",
    "version": 3
   },
   "file_extension": ".py",
   "mimetype": "text/x-python",
   "name": "python",
   "nbconvert_exporter": "python",
   "pygments_lexer": "ipython3",
   "version": "3.6.0"
  }
 },
 "nbformat": 4,
 "nbformat_minor": 2
}
