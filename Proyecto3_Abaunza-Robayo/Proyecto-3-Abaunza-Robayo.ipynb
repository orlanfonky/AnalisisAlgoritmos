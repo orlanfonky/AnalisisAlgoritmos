{
 "cells": [
  {
   "cell_type": "markdown",
   "metadata": {},
   "source": [
    "## PROYECTO DE ANALISIS DE ALGORITMOS.  ENTREGA FINAL\n",
    "\n",
    "\n",
    "### Orlando Abaunza Ubaque\n",
    "### Pablo Robayo"
   ]
  },
  {
   "cell_type": "markdown",
   "metadata": {},
   "source": [
    "### 1. Cliques en Grafos\n",
    "\n",
    "##### Primero se calcula la distancia de hamming, para despues mediante la funcion find_cliques(G) de la libreria \"networkx\" calcular el numero de cliques en el grafo de hamming H.\n"
   ]
  },
  {
   "cell_type": "code",
   "execution_count": 133,
   "metadata": {
    "collapsed": false,
    "scrolled": true,
    "slideshow": {
     "slide_type": "subslide"
    }
   },
   "outputs": [
    {
     "name": "stdout",
     "output_type": "stream",
     "text": [
      "Cliques:  [['011', '100', '101', '001', '110', '000', '111', '010']]\n",
      "# de Cliques:  8\n"
     ]
    }
   ],
   "source": [
    "import networkx\n",
    "import itertools\n",
    "import logging\n",
    "import time\n",
    "import math\n",
    "import numpy as np\n",
    "import pylab as pl\n",
    "\n",
    "\n",
    "def hamming(tam, d):\n",
    "    H = networkx.Graph()\n",
    "    l = [\"01\"] * tam \n",
    "    nodes = itertools.product(*l)\n",
    "    nodes = [''.join(x) for x in nodes]\n",
    "    H.add_nodes_from(nodes) \n",
    "    \n",
    "    for node in H.nodes():        \n",
    "        for v in H.nodes():\n",
    "            if(v != node):\n",
    "                dist = h_distance(node, v)\n",
    "                if(dist >= d):\n",
    "                    H.add_edge(node,v)\n",
    "    \n",
    "    return H\n",
    "\n",
    "def h_distance(str1, str2):        \n",
    "        distance = 0\n",
    "        for ch1, ch2 in zip(str1, str2):\n",
    "                if ch1 != ch2:\n",
    "                        distance += 1\n",
    "        return distance\n",
    "    \n",
    "def mutate_node(node, n):\n",
    "    if node[n] == '0':\n",
    "        base = '1'\n",
    "    else:\n",
    "        base = '0'\n",
    "    new_node = node[0:n] + base + node[n+1:]\n",
    "    return new_node\n",
    "\n",
    "\n",
    "H = hamming(3,1)\n",
    "\n",
    "print (\"Cliques: \",list(networkx.find_cliques(H))) \n",
    "print (\"# de Cliques: \" ,networkx.graph_clique_number(H))"
   ]
  },
  {
   "cell_type": "markdown",
   "metadata": {
    "collapsed": true
   },
   "source": [
    "#### Analisis "
   ]
  },
  {
   "cell_type": "code",
   "execution_count": 78,
   "metadata": {
    "collapsed": false,
    "scrolled": false
   },
   "outputs": [
    {
     "data": {
      "image/png": "[encoded data removed]",
      "text/plain": [
       "<matplotlib.figure.Figure at 0xd78cd15470>"
      ]
     },
     "metadata": {},
     "output_type": "display_data"
    }
   ],
   "source": [
    "def exper_analys(A):\n",
    "    R = []\n",
    "    for i in range(N):\n",
    "        tic = time.clock()\n",
    "        H = hamming(i,10)\n",
    "        networkx.graph_clique_number(H)\n",
    "        toc = time.clock()\n",
    "        R.append(toc - tic)\n",
    "    return R\n",
    "\n",
    "N = 8\n",
    "pl.clf()\n",
    "x = np.arange(N)\n",
    "y = np.array(exper_analys(N))\n",
    "pl.plot(x, y, '-r')\n",
    "pl.show()"
   ]
  },
  {
   "cell_type": "markdown",
   "metadata": {
    "collapsed": true
   },
   "source": [
    "### 2. MST Arbol de minima expansión\n",
    "##### Primero ordenamos las aristas del grafo de forma ascendente. A partir de la lista de dichas aristas crearemos el arbol de minima expansión (MST)\n",
    "##### Tiene un tiempo de ejecucion asintotico del orden O(2nm^2)"
   ]
  },
  {
   "cell_type": "code",
   "execution_count": 28,
   "metadata": {
    "collapsed": false
   },
   "outputs": [],
   "source": [
    "def open_file(fileName):\n",
    "    lines = [line.rstrip('\\n') for line in open(fileName)]\n",
    "    N = int(lines[0])\n",
    "    K = int(lines[1])\n",
    "    L = []\n",
    "    \n",
    "    i = 0\n",
    "    for l in lines[2:]:\n",
    "        t = l.split(',',N - i)\n",
    "        i -= 1\n",
    "        q = (i * -1) - 1\n",
    "        for j in t:\n",
    "            if(j != \"Inf\"):\n",
    "                tokens = j.split('/',1)\n",
    "                u = ((i * -1) - 1)\n",
    "                L.append((u,q, int(tokens[0]) , tokens[1]))\n",
    "            q+=1\n",
    "    return N, K, L"
   ]
  },
  {
   "cell_type": "code",
   "execution_count": 24,
   "metadata": {
    "collapsed": true
   },
   "outputs": [],
   "source": [
    "\n",
    "        \n",
    "def ordena(l):\n",
    "    for c in range(1,len(l)):\n",
    "        for x in range(len(l)-1):\n",
    "            if l[x].peso>l[x+1].peso:\n",
    "                aux=l[x]\n",
    "                l[x]=l[x+1]\n",
    "                l[x+1]=aux\n",
    "class arista:\n",
    "    def __init__(self,origen,destino,color,peso):\n",
    "        self.origen=origen\n",
    "        self.destino=destino\n",
    "        self.color=color\n",
    "        self.peso=peso\n",
    "        \n",
    "def OrderEdge(graph):\n",
    "    lis=[]\n",
    "    repetido=[]\n",
    "    for u in graph:\n",
    "        origen=u\n",
    "        for v in graph[u]:\n",
    "            destino=v\n",
    "            for x in graph[u][v]:\n",
    "                if(x=='R' or x=='B'):\n",
    "                    color=x\n",
    "                else:\n",
    "                    peso=x\n",
    "            if(not destino in repetido):        \n",
    "                a=arista(origen,destino,color,peso)\n",
    "                lis.append(a)\n",
    "        repetido.append(origen)\n",
    "    ordena(lis)\n",
    "    return lis"
   ]
  },
  {
   "cell_type": "code",
   "execution_count": 25,
   "metadata": {
    "collapsed": true
   },
   "outputs": [],
   "source": [
    "def MST(lista,k,n):\n",
    "    azules=k\n",
    "    rojas=n-k-1\n",
    "    cblue=0\n",
    "    cred=0\n",
    "    resp=[]\n",
    "    valor=0\n",
    "    print(\"K:\",k)\n",
    "    print(\"n-k-1:\",rojas)\n",
    "    for i in lista:\n",
    "        introducir=False\n",
    "        if(i.color=='R'):\n",
    "            if(cred<rojas):\n",
    "                introducir=True\n",
    "                cred=cred+1\n",
    "        elif(i.color=='B'):\n",
    "            if(cblue<azules):\n",
    "                introducir=True\n",
    "                cblue=cblue+1\n",
    "        if(introducir):\n",
    "            arbol={i.origen:{i.destino: i.color}}\n",
    "            resp.append(arbol)\n",
    "            valor=valor+i.peso\n",
    "    print(\"Peso: \",valor)\n",
    "    print(\"Aristas Azules: \",cblue)\n",
    "    print(\"Aristas Rojas: \",cred)\n",
    "    return resp;\n"
   ]
  },
  {
   "cell_type": "code",
   "execution_count": 26,
   "metadata": {
    "collapsed": false,
    "scrolled": true
   },
   "outputs": [
    {
     "name": "stdout",
     "output_type": "stream",
     "text": [
      "K: 5\n",
      "n-k-1: 2\n",
      "Peso:  22\n",
      "Aristas Azules:  5\n",
      "Aristas Rojas:  2\n",
      "[{1: {5: 'R'}}, {6: {7: 'B'}}, {1: {2: 'R'}}, {1: {3: 'B'}}, {0: {4: 'B'}}, {2: {6: 'B'}}, {2: {4: 'B'}}]\n"
     ]
    }
   ],
   "source": [
    "graph,nod,color=open_file(\"input_n8_b5_r2\")\n",
    "aristas=OrderEdge(graph)\n",
    "print (MST(aristas,color,nod))"
   ]
  },
  {
   "cell_type": "code",
   "execution_count": 27,
   "metadata": {
    "collapsed": false
   },
   "outputs": [
    {
     "name": "stdout",
     "output_type": "stream",
     "text": [
      "K: 4\n",
      "n-k-1: 3\n",
      "Peso:  21\n",
      "Aristas Azules:  4\n",
      "Aristas Rojas:  3\n",
      "[{1: {5: 'R'}}, {6: {7: 'B'}}, {1: {2: 'R'}}, {1: {3: 'B'}}, {0: {4: 'B'}}, {2: {6: 'B'}}, {0: {2: 'R'}}]\n"
     ]
    }
   ],
   "source": [
    "graph,nod,color=open_file(\"input_n8_b4_r3\")\n",
    "aristas=OrderEdge(graph)\n",
    "print (MST(aristas,color,nod))"
   ]
  },
  {
   "cell_type": "markdown",
   "metadata": {
    "collapsed": true
   },
   "source": [
    "# 3. Problema LP\n",
    "\n",
    "Suponga que se planea contruir una nueva cadena de tiendas en una ciudad dada, usted tiene identificado una serie de ubicaciones potenciales en diferentes barrios. Además asuma que la demanda de productos en cada barrio de la ciudad es conocida. Si usted quiere construir exactamente k tiendas, ¿dónde debería localizarlas de forma que minimice la distancia promedio de los clientes? ¿Si en lugar usted dese construir una cantidad variable de tiendas, y el costo de construir una tienda en cada sitio es conocido, ¿dónde debería construir las tiendas de forma que minimice el costo total del construcción y la distancia promedio de los clientes?"
   ]
  },
  {
   "cell_type": "code",
   "execution_count": 11,
   "metadata": {
    "collapsed": true
   },
   "outputs": [],
   "source": [
    "import math\n",
    "import numpy as np\n",
    "import pylab as pl\n",
    "import random as rnd\n",
    "import time\n",
    "from collections import defaultdict\n",
    "import itertools\n",
    "%matplotlib inline"
   ]
  },
  {
   "cell_type": "code",
   "execution_count": 45,
   "metadata": {
    "collapsed": true
   },
   "outputs": [],
   "source": [
    "class Graph:\n",
    "    def __init__(self):\n",
    "        self.nodes = set()\n",
    "        self.edges = defaultdict(list)\n",
    "        self.distances = {}\n",
    "\n",
    "    def add_node(self, value):\n",
    "        self.nodes.add(value)\n",
    "\n",
    "    def add_edge(self, from_node, to_node, distance):\n",
    "        self.edges[from_node].append(to_node)\n",
    "        self.edges[to_node].append(from_node)\n",
    "        self.distances[(from_node, to_node)] = distance\n",
    "        self.distances[(to_node, from_node)] = distance\n",
    "        \n",
    "    def keys(self):\n",
    "        keys = []\n",
    "        for node in self.nodes:\n",
    "            keys.append(node.name)\n",
    "        return keys\n",
    "\n",
    "\n",
    "\n",
    "class Barrio:\n",
    "    def __init__(self):\n",
    "        self.name = ''\n",
    "        self.costoTienda = 0\n",
    "        \n",
    "    def __init__(self, name, costoTienda):\n",
    "        self.name = name\n",
    "        self.costoTienda = costoTienda\n",
    "        \n",
    "    def __str__(self):\n",
    "        return self.name\n",
    "    \n",
    "    def __repr__(self):\n",
    "        return self.name\n",
    "\n",
    "\n",
    "\n",
    "def printGraph(g):\n",
    "    sortedNodes = sorted(g.nodes, key=lambda node: node.name) # sort by name\n",
    "    for node in sortedNodes:\n",
    "        print(node.name + \")\")\n",
    "        for edge in g.edges[node]:\n",
    "            print(edge)\n",
    "            print(g.distances[node,edge])\n",
    "\n",
    "def floyd_warshall(g):\n",
    "    #Creating adjacence matrix\n",
    "    m = [[float('inf')] * len(g.nodes) for i in range(len(g.nodes))]\n",
    "    sortedNodes = sorted(g.nodes, key=lambda node: node.name) # sort by name\n",
    "    for i, x in enumerate(sortedNodes):\n",
    "        for j, y in enumerate(sortedNodes):\n",
    "            if x == y:\n",
    "                m[i][j] = 0\n",
    "            else:\n",
    "                if x in g.edges[y]:\n",
    "                    m[i][j] = g.distances[(x,y)]\n",
    "\n",
    "    #FloydWarshall\n",
    "    for k in range(len(sortedNodes)):\n",
    "        for i in range(len(sortedNodes)):\n",
    "            for j in range(len(sortedNodes)):\n",
    "                m[i][j] = min(m[i][j], m[i][k] + m[k][j])\n",
    "    return m\n",
    "\n",
    "def adj(g):\n",
    "    #Creating adjacence matrix\n",
    "    m = [[float('inf')] * len(g.nodes) for i in range(len(g.nodes))]\n",
    "    sortedNodes = sorted(g.nodes, key=lambda node: node.name) # sort by name\n",
    "    for i, x in enumerate(sortedNodes):\n",
    "        for j, y in enumerate(sortedNodes):\n",
    "            if x == y:\n",
    "                m[i][j] = 0\n",
    "            else:\n",
    "                if x in g.edges[y]:\n",
    "                    m[i][j] = g.distances[(x,y)]\n",
    "    \n",
    "    return m\n",
    "\n",
    "def sumArray(a):\n",
    "    sums = 0\n",
    "    for element in a:\n",
    "        sums += element\n",
    "    return sums"
   ]
  },
  {
   "cell_type": "markdown",
   "metadata": {},
   "source": [
    "# Sin costos"
   ]
  },
  {
   "cell_type": "code",
   "execution_count": 46,
   "metadata": {
    "collapsed": true
   },
   "outputs": [],
   "source": [
    "def CargarGrafo(filename):\n",
    "    file = open(filename, \"r\") \n",
    "    k = int(file.readline())    \n",
    "    line = file.readline()\n",
    "    values = line.split()\n",
    "    graph = Graph()\n",
    "    \n",
    "    barrios = []\n",
    "    while line:\n",
    "        barrio = Barrio(values[0], 0)\n",
    "        barrios.append(barrio)\n",
    "        graph.add_node(barrio)\n",
    "        \n",
    "        for i in range(1, len(values)):\n",
    "            index = i-1\n",
    "            sortedNodes = sorted(graph.nodes, key=lambda node: node.name) # sort by name\n",
    "            if len(sortedNodes) > index:\n",
    "                barrio2 = sortedNodes[index]\n",
    "                if barrio != barrio2:\n",
    "                    graph.add_edge(barrio, barrio2, int(values[i]))\n",
    "                \n",
    "        line = file.readline()\n",
    "        values = line.split()\n",
    "    \n",
    "    file.close\n",
    "    \n",
    "    return graph, k"
   ]
  },
  {
   "cell_type": "code",
   "execution_count": 47,
   "metadata": {
    "collapsed": true
   },
   "outputs": [],
   "source": [
    "def sincosto(filename):\n",
    "    #Create graph\n",
    "    g, k = CargarGrafo(filename)\n",
    "    #Create matrix of min distances\n",
    "    adj_matrix = adj(g)\n",
    "    matrix = floyd_warshall(g)\n",
    "\n",
    "    sortedNodes = sorted(g.nodes, key=lambda node: node.name) # sort by name\n",
    "    #Getting combinations\n",
    "    combinations = itertools.combinations(sortedNodes, k)\n",
    "    combinationsList = [list(x) for x in combinations]\n",
    "\n",
    "    minCombination = []\n",
    "    minDistance = 10000\n",
    "\n",
    "    for i in range(len(combinationsList)):\n",
    "        combination = combinationsList[i]\n",
    "        distances = np.tile(10000, len(sortedNodes))\n",
    "        for node in combination:\n",
    "            row = adj_matrix[sortedNodes.index(node)]\n",
    "            for j in range(len(distances)):\n",
    "                if distances[j] > row[j]:\n",
    "                    distances[j] = row[j]\n",
    "            if sumArray(distances) <= minDistance:\n",
    "                minDistance = sumArray(distances)\n",
    "                minCombination = combination\n",
    "\n",
    "    stores = \"\"\n",
    "    for i in range(len(minCombination)):\n",
    "        stores += minCombination[i].name\n",
    "        if i != len(minCombination)-1:\n",
    "            stores += \",\"\n",
    "\n",
    "    print(minDistance)\n",
    "    print(stores)"
   ]
  },
  {
   "cell_type": "code",
   "execution_count": 48,
   "metadata": {
    "collapsed": false
   },
   "outputs": [
    {
     "name": "stdout",
     "output_type": "stream",
     "text": [
      "28\n",
      "A\n"
     ]
    }
   ],
   "source": [
    "sincosto(\"input_n5_k1\")"
   ]
  },
  {
   "cell_type": "code",
   "execution_count": 49,
   "metadata": {
    "collapsed": false
   },
   "outputs": [
    {
     "name": "stdout",
     "output_type": "stream",
     "text": [
      "8\n",
      "A,C\n"
     ]
    }
   ],
   "source": [
    "sincosto(\"input_n5_k2\")"
   ]
  },
  {
   "cell_type": "code",
   "execution_count": 50,
   "metadata": {
    "collapsed": false
   },
   "outputs": [
    {
     "name": "stdout",
     "output_type": "stream",
     "text": [
      "2\n",
      "B,C,D\n"
     ]
    }
   ],
   "source": [
    "sincosto(\"input_n5_k3\")"
   ]
  },
  {
   "cell_type": "markdown",
   "metadata": {},
   "source": [
    "# Con costos"
   ]
  },
  {
   "cell_type": "code",
   "execution_count": 51,
   "metadata": {
    "collapsed": true
   },
   "outputs": [],
   "source": [
    "\n",
    "\n",
    "def loadGraphWithCostsFrom(filename):\n",
    "    file = open(filename, \"r\") \n",
    "    k = int(file.readline())    \n",
    "    line = file.readline()\n",
    "    values = line.split()\n",
    "    graph = Graph()\n",
    "    \n",
    "    barrios = []\n",
    "    while line:\n",
    "        barrio = Barrio(values[0], int(values[1]))\n",
    "        barrios.append(barrio)\n",
    "        graph.add_node(barrio)\n",
    "        \n",
    "        for i in range(2, len(values)):\n",
    "            index = i-2\n",
    "            sortedNodes = sorted(graph.nodes, key=lambda node: node.name) # sort by name\n",
    "            if len(sortedNodes) > index:\n",
    "                barrio2 = sortedNodes[index]\n",
    "                if barrio != barrio2:\n",
    "                    graph.add_edge(barrio, barrio2, int(values[i]))\n",
    "                \n",
    "        line = file.readline()\n",
    "        values = line.split()\n",
    "    \n",
    "    file.close\n",
    "    \n",
    "    return graph, k\n",
    "\n"
   ]
  },
  {
   "cell_type": "code",
   "execution_count": 52,
   "metadata": {
    "collapsed": true
   },
   "outputs": [],
   "source": [
    "def concosto(filename):\n",
    "    #Create graph\n",
    "    g, k = loadGraphWithCostsFrom(filename)\n",
    "    #Create matrix of min distances\n",
    "    adj_matrix = adj(g)\n",
    "    matrix = floyd_warshall(g)\n",
    "\n",
    "    sortedNodes = sorted(g.nodes, key=lambda node: node.name) # sort by name\n",
    "    #Getting combinations\n",
    "    combinations = itertools.combinations(sortedNodes, k)\n",
    "    combinationsList = [list(x) for x in combinations]\n",
    "\n",
    "    minCombination = []\n",
    "    minDistanceAndCost = 10000\n",
    "    for i in range(len(combinationsList)):\n",
    "        combination = combinationsList[i]\n",
    "        distances = np.tile(10000, len(sortedNodes))\n",
    "        cost  = 0\n",
    "        for node in combination:\n",
    "            cost += node.costoTienda\n",
    "            \n",
    "        for node in combination:\n",
    "            row = adj_matrix[sortedNodes.index(node)]\n",
    "            for j in range(len(distances)):\n",
    "                if distances[j] > row[j]:\n",
    "                    distances[j] = row[j]\n",
    "            if (sumArray(distances) + cost) <= minDistanceAndCost:                  \n",
    "                minDistanceAndCost = sumArray(distances) + cost\n",
    "                minCombination = combination\n",
    "\n",
    "    stores = \"\"\n",
    "    for i in range(len(minCombination)):\n",
    "        stores += minCombination[i].name\n",
    "        if i != len(minCombination)-1:\n",
    "            stores += \",\"\n",
    "\n",
    "    print(minDistanceAndCost)\n",
    "    print(stores)"
   ]
  },
  {
   "cell_type": "code",
   "execution_count": 53,
   "metadata": {
    "collapsed": false
   },
   "outputs": [
    {
     "name": "stdout",
     "output_type": "stream",
     "text": [
      "50\n",
      "B\n"
     ]
    }
   ],
   "source": [
    "concosto(\"input_n5_k1_c\")"
   ]
  },
  {
   "cell_type": "code",
   "execution_count": 54,
   "metadata": {
    "collapsed": false
   },
   "outputs": [
    {
     "name": "stdout",
     "output_type": "stream",
     "text": [
      "40\n",
      "B,D\n"
     ]
    }
   ],
   "source": [
    "concosto(\"input_n5_k2_c\")"
   ]
  },
  {
   "cell_type": "code",
   "execution_count": 55,
   "metadata": {
    "collapsed": false
   },
   "outputs": [
    {
     "name": "stdout",
     "output_type": "stream",
     "text": [
      "51\n",
      "B,C,D\n"
     ]
    }
   ],
   "source": [
    "concosto(\"input_n5_k3_c\")"
   ]
  }
 ],
 "metadata": {
  "anaconda-cloud": {},
  "celltoolbar": "Slideshow",
  "kernelspec": {
   "display_name": "Python 3",
   "language": "python",
   "name": "python3"
  },
  "language_info": {
   "codemirror_mode": {
    "name": "ipython",
    "version": 3
   },
   "file_extension": ".py",
   "mimetype": "text/x-python",
   "name": "python",
   "nbconvert_exporter": "python",
   "pygments_lexer": "ipython3",
   "version": "3.6.0"
  }
 },
 "nbformat": 4,
 "nbformat_minor": 1
}
