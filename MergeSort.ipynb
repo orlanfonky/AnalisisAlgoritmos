{
 "cells": [
  {
   "cell_type": "markdown",
   "metadata": {},
   "source": [
    "<h1>Merge-Sort</h1>"
   ]
  },
  {
   "cell_type": "code",
   "execution_count": 2,
   "metadata": {
    "collapsed": false
   },
   "outputs": [],
   "source": [
    "def mergeSort(alist):\n",
    "    if len(alist)>1:\n",
    "        mid = len(alist)//2\n",
    "        LH = alist[:mid]\n",
    "        RH = alist[mid:]\n",
    "        mergeSort(LH)\n",
    "        mergeSort(RH)\n",
    "        i=0\n",
    "        j=0\n",
    "        k=0\n",
    "        while i < len(LH) and j < len(RH):\n",
    "            if LH[i] < RH[j]:\n",
    "                alist[k]=LH[i]\n",
    "                i=i+1\n",
    "            else:\n",
    "                alist[k]=RH[j]\n",
    "                j=j+1\n",
    "            k=k+1\n",
    "\n",
    "        while i < len(LH):\n",
    "            alist[k]=LH[i]\n",
    "            i=i+1\n",
    "            k=k+1\n",
    "\n",
    "        while j < len(RH):\n",
    "            alist[k]=RH[j]\n",
    "            j=j+1\n",
    "            k=k+1"
   ]
  },
  {
   "cell_type": "code",
   "execution_count": 3,
   "metadata": {
    "collapsed": false
   },
   "outputs": [
    {
     "name": "stdout",
     "output_type": "stream",
     "text": [
      "[17, 20, 26, 31, 44, 54, 55, 77, 93]\n"
     ]
    }
   ],
   "source": [
    "al = [54,26,93,17,77,31,44,55,20]\n",
    "mergeSort(al)\n",
    "print (al)"
   ]
  },
  {
   "cell_type": "markdown",
   "metadata": {},
   "source": [
    "<h2>Correctitud</h2>\n",
    "<b>Invariante:</b> La lista que se genera al final de cada invocación de la función debe ser igual a la lista original ordenada que inicia en la función"
   ]
  },
  {
   "cell_type": "code",
   "execution_count": 4,
   "metadata": {
    "collapsed": true
   },
   "outputs": [],
   "source": [
    "def invariant(A, original_A):\n",
    "    l1 = list(A)\n",
    "    l2 = list(original_A)\n",
    "    l2.sort()\n",
    "    return l1 == l2"
   ]
  },
  {
   "cell_type": "markdown",
   "metadata": {},
   "source": [
    "<h1>Evaluacion de la invariante:</h1>"
   ]
  },
  {
   "cell_type": "code",
   "execution_count": 5,
   "metadata": {
    "collapsed": false
   },
   "outputs": [],
   "source": [
    "def right_merge_sort(alist):\n",
    "    original_A=list(alist)\n",
    "    if len(alist)>1:\n",
    "        mid = len(alist)//2\n",
    "        LH = alist[:mid]\n",
    "        RH = alist[mid:]\n",
    "\n",
    "        right_merge_sort(LH)\n",
    "        right_merge_sort(RH)\n",
    "\n",
    "        i=0\n",
    "        j=0\n",
    "        k=0\n",
    "        while i < len(LH) and j < len(RH):\n",
    "            if LH[i] < RH[j]:\n",
    "                alist[k]=LH[i]\n",
    "                i=i+1\n",
    "            else:\n",
    "                alist[k]=RH[j]\n",
    "                j=j+1\n",
    "            k=k+1\n",
    "\n",
    "        while i < len(LH):\n",
    "            alist[k]=LH[i]\n",
    "            i=i+1\n",
    "            k=k+1\n",
    "\n",
    "        while j < len(RH):\n",
    "            alist[k]=RH[j]\n",
    "            j=j+1\n",
    "            k=k+1\n",
    "        assert invariant(alist, original_A)\n",
    "    \n",
    "  "
   ]
  },
  {
   "cell_type": "code",
   "execution_count": 6,
   "metadata": {
    "collapsed": false
   },
   "outputs": [
    {
     "name": "stdout",
     "output_type": "stream",
     "text": [
      "[1, 2, 3, 4, 5, 6, 7, 8, 9]\n"
     ]
    }
   ],
   "source": [
    "al = [5, 4, 6, 3, 7, 2, 8, 1, 9]\n",
    "right_merge_sort(al)\n",
    "print (al)"
   ]
  },
  {
   "cell_type": "code",
   "execution_count": null,
   "metadata": {
    "collapsed": false
   },
   "outputs": [],
   "source": []
  },
  {
   "cell_type": "code",
   "execution_count": 9,
   "metadata": {
    "collapsed": false
   },
   "outputs": [],
   "source": [
    "def wrong_merge_sort(alist):\n",
    "    original_A=list(alist)\n",
    "    try:\n",
    "        if len(alist)>1:\n",
    "            mid = len(alist)//2\n",
    "            LH = alist[:mid]\n",
    "            RH = alist[mid:]\n",
    "\n",
    "            wrong_merge_sort(LH)\n",
    "            wrong_merge_sort(RH)\n",
    "\n",
    "            i=0\n",
    "            j=0\n",
    "            k=0\n",
    "            while i < len(LH) and j < len(RH):\n",
    "                if LH[i] > RH[j]:\n",
    "                    alist[k]=LH[i]\n",
    "                    i=i+1\n",
    "                else:\n",
    "                    alist[k]=RH[j]\n",
    "                    j=j+1\n",
    "                k=k+1\n",
    "\n",
    "            while i < len(LH):\n",
    "                alist[k]=LH[i]\n",
    "                i=i+1\n",
    "                k=k+1\n",
    "\n",
    "            while j < len(RH):\n",
    "                alist[k]=RH[j]\n",
    "                j=j+1\n",
    "                k=k+1\n",
    "            assert invariant(alist, original_A)\n",
    "            \n",
    "    except  AssertionError:\n",
    "        print (\"Error en invariante\")\n",
    "        print (\"j=\", i)\n",
    "        print (\"i=\", j)\n",
    "        print (\"A=\", alist)\n",
    "        print (\"O_A=\", original_A)"
   ]
  },
  {
   "cell_type": "code",
   "execution_count": 10,
   "metadata": {
    "collapsed": false
   },
   "outputs": [
    {
     "name": "stdout",
     "output_type": "stream",
     "text": [
      "Error en invariante\n",
      "j= 1\n",
      "i= 1\n",
      "A= [7, 4]\n",
      "O_A= [7, 4]\n",
      "Error en invariante\n",
      "j= 1\n",
      "i= 1\n",
      "A= [9, 2]\n",
      "O_A= [2, 9]\n",
      "Error en invariante\n",
      "j= 2\n",
      "i= 2\n",
      "A= [9, 7, 4, 2]\n",
      "O_A= [7, 4, 2, 9]\n",
      "[9, 7, 4, 2]\n"
     ]
    }
   ],
   "source": [
    "al = [7,4,2,9]\n",
    "wrong_merge_sort(al)\n",
    "print (al)"
   ]
  },
  {
   "cell_type": "markdown",
   "metadata": {},
   "source": [
    "<h2>Análisis del tiempo de ejecución</h2>"
   ]
  },
  {
   "cell_type": "code",
   "execution_count": 14,
   "metadata": {
    "collapsed": false
   },
   "outputs": [],
   "source": [
    "class Counter:\n",
    "    '''\n",
    "    Class Counter\n",
    "    Implements a step counter, which is used to compute the number of basic operations performed in\n",
    "    a particular call to a function.\n",
    "    '''\n",
    "    def __init__(self):\n",
    "        self.steps = 0\n",
    "\n",
    "    def reset(self):\n",
    "        self.steps = 0\n",
    "\n",
    "    def count(self):\n",
    "        self.steps += 1\n",
    "\n",
    "    def print_steps(self):\n",
    "        print (\"Number of steps =\", self.steps)\n",
    "        \n",
    "\n",
    "def mergeSort_acct(alist,acct):\n",
    "    if len(alist)>1:\n",
    "        acct.count()   \n",
    "        mid = len(alist)//2;acct.count()   \n",
    "        LH = alist[:mid];acct.count()   \n",
    "        RH = alist[mid:];acct.count()   \n",
    "\n",
    "        mergeSort_acct(LH,acct);acct.count()   \n",
    "        mergeSort_acct(RH,acct);acct.count()   \n",
    "\n",
    "        i=0;acct.count()   \n",
    "        j=0;acct.count()   \n",
    "        k=0;acct.count()   \n",
    "        acct.count()   \n",
    "        while i < len(LH) and j < len(RH):\n",
    "            acct.count()   \n",
    "            if LH[i] < RH[j]:\n",
    "                acct.count()   \n",
    "                alist[k]=LH[i];acct.count()   \n",
    "                i=i+1;acct.count()   \n",
    "            else:\n",
    "                acct.count()   \n",
    "                alist[k]=RH[j];acct.count()   \n",
    "                j=j+1;acct.count()   \n",
    "            k=k+1;acct.count()   \n",
    "        acct.count()   \n",
    "        while i < len(LH):\n",
    "            acct.count()   \n",
    "            alist[k]=LH[i];acct.count()   \n",
    "            i=i+1;acct.count()   \n",
    "            k=k+1;acct.count()   \n",
    "        acct.count()   \n",
    "        while j < len(RH):\n",
    "            acct.count()   \n",
    "            alist[k]=RH[j];acct.count()   \n",
    "            j=j+1;acct.count()   \n",
    "            k=k+1;acct.count()   \n",
    "            "
   ]
  },
  {
   "cell_type": "code",
   "execution_count": 15,
   "metadata": {
    "collapsed": false
   },
   "outputs": [
    {
     "name": "stdout",
     "output_type": "stream",
     "text": [
      "Number of steps = 195\n"
     ]
    }
   ],
   "source": [
    "al=[5,4,3,12,24,13,9,2]\n",
    "acct = Counter()\n",
    "mergeSort_acct(al,acct)\n",
    "acct.print_steps()"
   ]
  },
  {
   "cell_type": "markdown",
   "metadata": {},
   "source": [
    "<h1>Análisis experimental</h1>"
   ]
  },
  {
   "cell_type": "code",
   "execution_count": 11,
   "metadata": {
    "collapsed": false
   },
   "outputs": [],
   "source": [
    "import random\n",
    "\n",
    "def exper_analysis(n):\n",
    "    results = []\n",
    "    acct = Counter()\n",
    "    for i in range(n):\n",
    "        l = list(range(i))\n",
    "        random.shuffle(l)\n",
    "        acct.reset()\n",
    "        mergeSort_acct(l,acct)\n",
    "        results.append(acct.steps)\n",
    "    return results"
   ]
  },
  {
   "cell_type": "code",
   "execution_count": 12,
   "metadata": {
    "collapsed": false
   },
   "outputs": [
    {
     "name": "stdout",
     "output_type": "stream",
     "text": [
      "[0, 0, 21, 46, 73, 103, 135, 164, 195, 232]\n"
     ]
    }
   ],
   "source": [
    "print (exper_analysis(10))"
   ]
  },
  {
   "cell_type": "markdown",
   "metadata": {},
   "source": [
    "Ahora vamos a analizar el tiempo del algoritmo cuando el tamaño de la entrada varía. La siguiente función genera arreglos al azar de tamaño 1 a n, llama la función mergeSort_acct(arr,acct) y saca el tiempo que se demora el algoritmo."
   ]
  },
  {
   "cell_type": "code",
   "execution_count": 13,
   "metadata": {
    "collapsed": true
   },
   "outputs": [],
   "source": [
    "import time\n",
    "tic = time.clock()#get start time\n",
    "tfc = time.clock()#get final time\n",
    "def timer_analysis(n):\n",
    "    results = []\n",
    "    acct = Counter()\n",
    "    for i in range(n):\n",
    "        l = list(range(i))\n",
    "        random.shuffle(l)\n",
    "        acct.reset()\n",
    "        tic = time.clock()\n",
    "        mergeSort_acct(l,acct)\n",
    "        tfc = time.clock()\n",
    "        results.append((tfc-tic))\n",
    "    return results"
   ]
  },
  {
   "cell_type": "markdown",
   "metadata": {},
   "source": [
    "<h2>Grafica</h2><br>\n",
    "La siguiente gráfica representa el número de operaciones (azul), tiempo (rojo) y T(n) (negro) que el algoritmo de mergesort requiere para ordenar arreglos de tamaño n en el peor de los casos."
   ]
  },
  {
   "cell_type": "code",
   "execution_count": 14,
   "metadata": {
    "collapsed": false
   },
   "outputs": [
    {
     "data": {
      "image/png": "[encoded data removed]",
      "text/plain": [
       "<matplotlib.figure.Figure at 0x510e8ae160>"
      ]
     },
     "metadata": {},
     "output_type": "display_data"
    }
   ],
   "source": [
    "import pylab \n",
    "import math\n",
    "import numpy as np\n",
    "pylab.clf()\n",
    "x = np.arange(100)\n",
    "y = np.array(timer_analysis(100))*400000\n",
    "\n",
    "a = np.arange(100)\n",
    "b = np.array(exper_analysis(100))\n",
    "\n",
    "c = np.arange(1,100)\n",
    "d = c*(np.log(c))*2\n",
    "\n",
    "pylab.plot(x, y, 'r--',a,b,'b-',c,d,'k-')\n",
    "pylab.show()"
   ]
  },
  {
   "cell_type": "code",
   "execution_count": null,
   "metadata": {
    "collapsed": true
   },
   "outputs": [],
   "source": []
  }
 ],
 "metadata": {
  "anaconda-cloud": {},
  "kernelspec": {
   "display_name": "Python 3",
   "language": "python",
   "name": "python3"
  },
  "language_info": {
   "codemirror_mode": {
    "name": "ipython",
    "version": 3
   },
   "file_extension": ".py",
   "mimetype": "text/x-python",
   "name": "python",
   "nbconvert_exporter": "python",
   "pygments_lexer": "ipython3",
   "version": "3.6.0"
  }
 },
 "nbformat": 4,
 "nbformat_minor": 1
}
