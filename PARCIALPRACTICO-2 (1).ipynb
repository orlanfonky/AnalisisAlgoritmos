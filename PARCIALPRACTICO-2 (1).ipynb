{
 "cells": [
  {
   "cell_type": "code",
   "execution_count": 23,
   "metadata": {
    "collapsed": false,
    "scrolled": true
   },
   "outputs": [
    {
     "ename": "SyntaxError",
     "evalue": "invalid syntax (<ipython-input-23-f809aba34e35>, line 5)",
     "output_type": "error",
     "traceback": [
      "\u001b[0;36m  File \u001b[0;32m\"<ipython-input-23-f809aba34e35>\"\u001b[0;36m, line \u001b[0;32m5\u001b[0m\n\u001b[0;31m    Operación            z           Costo         Total\u001b[0m\n\u001b[0m           ^\u001b[0m\n\u001b[0;31mSyntaxError\u001b[0m\u001b[0;31m:\u001b[0m invalid syntax\n"
     ]
    }
   ],
   "source": [
    "#PARCIAL PRACTICO\n",
    "\n",
    "#PUNTO 1\n",
    "\n",
    "Operación            z           Costo         Total\n",
    "Inicializacion       algorithm   0             0\n",
    "derecha              algorithm   0             0\n",
    "derecha              algorithm   0             0\n",
    "reemplazar (por n)   angorithm   4             4\n",
    "reemplazar (por a)   anaorithm   4             8\n",
    "reemplazar (por l)   analrithm   4             12\n",
    "Reemplazar (por y)   analyithm   4             16\n",
    "Insertar s           analysithm  3             19\n",
    "derecha              analysithm  0             19\n",
    "Insertar             analysisthm 3             22\n",
    "eliminar             analysishm  2             24\n",
    "eliminar             analysism   2             26\n",
    "eliminar             analysis    2             28\n",
    "\n",
    "\n"
   ]
  },
  {
   "cell_type": "code",
   "execution_count": 35,
   "metadata": {
    "collapsed": false
   },
   "outputs": [
    {
     "ename": "SyntaxError",
     "evalue": "invalid syntax (<ipython-input-35-21c3244f5387>, line 1)",
     "output_type": "error",
     "traceback": [
      "\u001b[0;36m  File \u001b[0;32m\"<ipython-input-35-21c3244f5387>\"\u001b[0;36m, line \u001b[0;32m1\u001b[0m\n\u001b[0;31m    Se puede mostrar que para dist(x,y) hay un conjuto de operaciones S la cual no contiene \"izquierda\" cuya suma de costos es igual a dist(x,y) con la operación \"izquierda\". Esto se cumple gracias al hecho de que para una cadena X ser igual a Y tiene que tener el mismo números de reemplazos y de inserciones, el hecho de que el cursor pueda ir de izquierda a derecha no afecta ese hecho. Lo positivo de tener un algoritmo en el cual no hay operación izquierda es que asegura que solo se recorrera la cadena en un setido y nunca se va a devolver lo cual puede hacer el algoritmo mucho mas eficiente. En el primer punto se puede evidenciar que si se puede construir un conjunto S que no tiene la operación izquierda pero suma el mismo costo.\u001b[0m\n\u001b[0m           ^\u001b[0m\n\u001b[0;31mSyntaxError\u001b[0m\u001b[0;31m:\u001b[0m invalid syntax\n"
     ]
    }
   ],
   "source": [
    "#PUNTO 2\n",
    "\n",
    "Se puede mostrar que para dist(x,y) hay un conjuto de operaciones S \n",
    "la cual no contiene \"izquierda\" cuya suma de costos es igual a dist(x,y)\n",
    "con la operación \"izquierda\". \n",
    "Esto se cumple debido a que para una cadena X ser igual a Y tiene que tener el mismo \n",
    "números de reemplazos y de inserciones, el hecho de que el cursor \n",
    "pueda ir de izquierda a derecha no afecta ese hecho.\n",
    "Lo positivo de tener un algoritmo en el cual no hay operación izquierda\n",
    "es que asegura que solo se recorrera la cadena en un setido y nunca\n",
    "se va a devolver lo cual puede hacer el algoritmo mucho mas eficiente.\n",
    "En el primer punto se puede evidenciar que si se puede construir un \n",
    "conjunto S que no tiene la operación izquierda pero suma el mismo costo."
   ]
  },
  {
   "cell_type": "code",
   "execution_count": null,
   "metadata": {
    "collapsed": true
   },
   "outputs": [],
   "source": [
    "#PUNTO 3\n",
    "Podemos ver que la distancia de edicion optima se puede \n",
    "encontrar mediante la busqueda de las distancias de los \n",
    "subproblemas. Para esto definimos una funcion de costo\n",
    "\n",
    "cxy(i, j) = d(x, y[1 . . i]/x[j + 1 . . m])\n",
    "\n",
    "Donde cxy(i,j) es el costo minimo de transformar el primer \n",
    "caracter jde x en el primer caracter i de y.\n",
    "Entonces d(x,y)=cxy(n,m).\n",
    "Ahora consideramos una sequencia de operaciones S=(01,02,...,0k) \n",
    "que transforma x en y con costo C(S) = d(x,y).\n",
    "Definimo Si como la subsequencia S que contieen la primera operacion i de S."
   ]
  },
  {
   "cell_type": "code",
   "execution_count": 36,
   "metadata": {
    "collapsed": false
   },
   "outputs": [],
   "source": [
    "#PUNTO 4\n",
    "El valor de c(i,j) =  al minimo de\n",
    " \n",
    " \n",
    " \n",
    "costo (eliminar x[i]) + c(i + 1, j) si i < |x|\n",
    " \n",
    "costo(insertar y[j]) + c(i, j + 1) si j < |y|\n",
    " \n",
    "costo(reemplazar x[i] -> y[j]) + c(i + 1, j + 1) si i < |x| & j < |y|</ul>\n",
    " \n",
    "Caso Base: c(|x|,|y|) = 0\n",
    " \n",
    "Cada subproblema toma O(1) en resolver\n"
   ]
  },
  {
   "cell_type": "code",
   "execution_count": 33,
   "metadata": {
    "collapsed": true
   },
   "outputs": [],
   "source": [
    "x= \"software engineering\"\n",
    "y = \"computer science\"\n",
    "recur(x,y)"
   ]
  },
  {
   "cell_type": "code",
   "execution_count": 18,
   "metadata": {
    "collapsed": false,
    "scrolled": true
   },
   "outputs": [
    {
     "ename": "SyntaxError",
     "evalue": "invalid syntax (<ipython-input-18-8100d6678740>, line 3)",
     "output_type": "error",
     "traceback": [
      "\u001b[0;36m  File \u001b[0;32m\"<ipython-input-18-8100d6678740>\"\u001b[0;36m, line \u001b[0;32m3\u001b[0m\n\u001b[0;31m    Se trata de un algoritmo de tipo bottom-up. Utiliza una matriz (n + 1) × (m + 1),\u001b[0m\n\u001b[0m           ^\u001b[0m\n\u001b[0;31mSyntaxError\u001b[0m\u001b[0;31m:\u001b[0m invalid syntax\n"
     ]
    }
   ],
   "source": [
    "#PUNTO 5\n",
    "\n",
    "Se trata de un algoritmo de tipo bottom-up. Utiliza una matriz (n + 1) × (m + 1), \n",
    "donde n y m son las longitudes de las cadenas. Aquí se indica el algoritmo en pseudocódigo para una función \n",
    "LevenshteinDistance que toma dos cadenas, str1 de longitud lenStr1, y str2 de longitud lenStr2, y \n",
    "calcula la distancia Levenshtein entre ellos.\n",
    "El invariante mantenido a través del algorítmo es que pueda transformar el segmento inicial str1[1..i] en str2[1..j] \n",
    "empleando un mínimo de d[i,j] operaciones. Al final, el elemento ubicado en la parte INFERIOR derecha de la matriz \n",
    "contiene la respuesta. ( Tomado de wikipedia)"
   ]
  },
  {
   "cell_type": "code",
   "execution_count": 42,
   "metadata": {
    "collapsed": false
   },
   "outputs": [],
   "source": [
    "#PUNTO 6\n",
    "\n",
    "import pylab \n",
    "import math\n",
    "import time\n",
    "tic = time.clock()#get start time\n",
    "tfc = time.clock()#get final time\n",
    "\n",
    "def distance(str1, str2):\n",
    "  d=dict()\n",
    "  for i in range(len(str1)+1):\n",
    "     d[i]=dict()\n",
    "     d[i][0]=i\n",
    "  for i in range(len(str2)+1):\n",
    "     d[0][i] = i\n",
    "  for i in range(1, len(str1)+1):\n",
    "     for j in range(1, len(str2)+1):\n",
    "        d[i][j] = min(d[i][j-1]+1, d[i-1][j]+1, d[i-1][j-1]+(not str1[i-1] == str2[j-1]))\n",
    "  return d[len(str1)][len(str2)]\n",
    "#Tiene un tiempo de ejecucion T=O(ncuadrado)"
   ]
  },
  {
   "cell_type": "code",
   "execution_count": 43,
   "metadata": {
    "collapsed": false
   },
   "outputs": [
    {
     "data": {
      "text/plain": [
       "16"
      ]
     },
     "execution_count": 43,
     "metadata": {},
     "output_type": "execute_result"
    }
   ],
   "source": [
    "x= \"software engineering\"\n",
    "y = \"computer science\"\n",
    "distance(x,y)"
   ]
  },
  {
   "cell_type": "code",
   "execution_count": 45,
   "metadata": {
    "collapsed": false
   },
   "outputs": [
    {
     "data": {
      "text/plain": [
       "534"
      ]
     },
     "execution_count": 45,
     "metadata": {},
     "output_type": "execute_result"
    }
   ],
   "source": [
    "#PUNTO 7\n",
    "#Instancia 1\n",
    "x=\"In fairy-tales, witches always wear silly black hats and black cloaks, and they ride on broomsticks.  But this is not a fairy-tale. This is about Real Witches.  The most important thing you should know about Real Witches is this.  Listen very carefully.  Never forget what is coming next.  Real Witches dress in ordinary clothes and look very much like ordinary women. They live in ordinary houses and work in Ordinary Jobs.  That is why they are so hard to catch.  A Real Witch hates children with a red-hot sizzling hatred that is more sizzling and red-hot than any hatred you could possibly imagine.\"\n",
    "y=\"Round about the caldron go In the poison'd entrails throw.  Toad, that under cold stone, Days and nights has thirty-one; Swelter'd venom sleeping got, Boil thou first i' the charmed pot!  Double, double toil and trouble; Fire burn, and cauldron bubble.  Fillet of a fenny snake, In the caldron boil and bake; Eye of newt, and toe of frog, Wool of bat, and tongue of dog; Adder's fork, and blind-worm's sting, Lizard's leg, and howlet's wing; For a charm of pow'rful trouble, Like a hell-broth boil and bubble.  Double, double toil and trouble; Fire burn, and cauldron bubble.  Scale of dragon, tooth of wolf, Witches' mummy, maw and gulf Of the ravin'd salt-sea shark; Root of hemlock digg'd i' the dark.\"\n",
    "distance(x,y)"
   ]
  },
  {
   "cell_type": "code",
   "execution_count": 48,
   "metadata": {
    "collapsed": false
   },
   "outputs": [
    {
     "data": {
      "text/plain": [
       "787"
      ]
     },
     "execution_count": 48,
     "metadata": {},
     "output_type": "execute_result"
    }
   ],
   "source": [
    "#INSTANCIA 2\n",
    "x=\"Macavity, Macavity, there's no one like Macavity, He's broken every  human law, he breaks the law of gravity.  His powers of levitation  would make a fakir stare, And when you reach the scene of crime -  Macavity's not there!  You may seek him in the basement, you may look  up in the air - But I tell you once and once again, Macavity's not there!  Macavity's a ginger cat, he's very tall and thin; You would know him if you saw him, for his eyes are sunken in.  His brow is deeply lined with thought, his head is highly domed; His coat is dusty from neglect, his whiskers are uncombed.  He sways his head from side to side, with movements like a snake; And when you think he's half asleep, he's always wide awake.Please would you tell me, said Alice, a little timidly, for she was not quite sure whether it was good manners for her to speak first, `why your cat grins like that?' `It's a Cheshire cat,' said the Duchess, `and that's why. Pig!'  She said the last word with such sudden violence that Alice quite \"\n",
    "y=\"jumped; but she saw in another moment that it was addressed to the baby, and not to her, so she took courage, and went on again:  `I didn't know that Cheshire cats always grinned; in fact, I didn't know that cats could grin.'  `They all can,' said the Duchess; `and most of 'em do.'  `I don't know of any that do,' Alice said very politely, feeling quite pleased to have got into a conversation.\"\n",
    "distance(x,y)"
   ]
  },
  {
   "cell_type": "code",
   "execution_count": 50,
   "metadata": {
    "collapsed": false
   },
   "outputs": [
    {
     "data": {
      "text/plain": [
       "873"
      ]
     },
     "execution_count": 50,
     "metadata": {},
     "output_type": "execute_result"
    }
   ],
   "source": [
    "x=\"Old MacDonald had a farm, Ee i ee i o.  And on his farm he had some chicks, Ee i ee i o.  With a cluck-cluck here and a cluck-cluck there.  Here a cluck, there a cluck everywhere a cluck-cluck. Old MacDonald had a farm, Ee i ee i o.  Old MacDonald had a farm, Ee i ee i o.  And on his farm he had some cows, Ee i ee i o.  With a moo-moo here and a moo-moo there.  Here a moo, there a moo everywhere a moo-moo.  Old MacDonald had a farm, Ee i ee i o.At one end of the big barn, on a sort of raised platform, Major was already ensconced on his bed of straw, under a lantern which hung from a beam. He was twelve years old and had lately grown rather stout, but he was still a majestic-looking pig, with a wise and benevolent appearance in spite of the fact that his tushes had never been cut.  Before long the other animals began to arrive and make themselves comfortable after their different fashions.  First came the three dogs, Bluebell, Jessie, and Pincher, and then the pigs, who settled down in the straw immediat\"\n",
    "y=\"ely in front of the platform.  The hens perched themselves on the window-sills, the pigeons fluttered up to the rafters, the sheep and cows lay down behind the pigs and began to chew the cud.\"\n",
    "distance(x,y)"
   ]
  },
  {
   "cell_type": "code",
   "execution_count": null,
   "metadata": {
    "collapsed": true
   },
   "outputs": [],
   "source": []
  }
 ],
 "metadata": {
  "anaconda-cloud": {},
  "kernelspec": {
   "display_name": "Python [conda root]",
   "language": "python",
   "name": "conda-root-py"
  },
  "language_info": {
   "codemirror_mode": {
    "name": "ipython",
    "version": 2
   },
   "file_extension": ".py",
   "mimetype": "text/x-python",
   "name": "python",
   "nbconvert_exporter": "python",
   "pygments_lexer": "ipython2",
   "version": "2.7.12"
  }
 },
 "nbformat": 4,
 "nbformat_minor": 1
}
