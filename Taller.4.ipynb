{
 "cells": [
  {
   "cell_type": "markdown",
   "metadata": {},
   "source": [
    "<h1>Taller 4</h1><br>"
    "<h1>Implemente un método que retorne la subsecuencia común más larga (SCL) apartir de la matriz C construida por el algoritmo de PD que calcula la longitud de la SCL.</h1>"
"
   ]
  },
  {
   "cell_type": "code",
   "execution_count": 1,
   "metadata": {
    "collapsed": false
   },
   "outputs": [],
   "source": [
    "def quicksort(L, h, t):\n",
    "   \n",
    "    i = h\n",
    "    j = t    \n",
    "    p = int((L[i] + L[j]) / 2)\n",
    "\n",
    "    while i < j:\n",
    "        while L[i] < p:\n",
    "            i+=1\n",
    "        while L[j] > p:\n",
    "            j-=1\n",
    "        if i <= j:\n",
    "            x = L[j]\n",
    "            L[j] = L[i]\n",
    "            L[i] = x\n",
    "            i+=1\n",
    "            j-=1\n",
    "        \n",
    "\n",
    "    if h < j:\n",
    "        quicksort(L, h, j)\n",
    "\n",
    "    if t > i:\n",
    "         quicksort(L, i, t)\n",
    "   "
   ]
  },
  {
   "cell_type": "code",
   "execution_count": 3,
   "metadata": {
    "collapsed": false
   },
   "outputs": [
    {
     "name": "stdout",
     "output_type": "stream",
     "text": [
      "[1, 2, 3, 5, 6, 7, 8, 9, 11, 16, 45]\n"
     ]
    }
   ],
   "source": [
    "al = [11,3,6,2,9,45,7,5,8,16,1]\n",
    "quicksort(al,0,len(al)-1)\n",
    "print (al)"
   ]
  },
  {
   "cell_type": "markdown",
   "metadata": {},
   "source": [
    "<h1>Correctitud</h1>"
   ]
  },
  {
   "cell_type": "code",
   "execution_count": 4,
   "metadata": {
    "collapsed": false
   },
   "outputs": [],
   "source": [
    "def invariant(A,p, h,t):\n",
    "    arr=list(A)\n",
    "    i=h\n",
    "    j=t\n",
    "    cont=0\n",
    "    tamtotal=t-h+1\n",
    "\n",
    "    while arr[i]<=p:\n",
    "        if i<=j:\n",
    "            i+=1\n",
    "            cont+=1\n",
    "        if i>j:\n",
    "            break\n",
    "    if i<=j:\n",
    "        while arr[i]>p:\n",
    "            if i<=j:\n",
    "                i+=1\n",
    "                cont+=1\n",
    "            if i>j:\n",
    "                break\n",
    "    if cont<tamtotal:\n",
    "        return False\n",
    "\n",
    "    return True"
   ]
  },
  {
   "cell_type": "code",
   "execution_count": 5,
   "metadata": {
    "collapsed": false
   },
   "outputs": [
    {
     "name": "stdout",
     "output_type": "stream",
     "text": [
      "False\n",
      "True\n"
     ]
    }
   ],
   "source": [
    "print (invariant([12,34,2,1,45,25,17], 6,0,4))\n",
    "print (invariant([4,2,5,9,7], 6,0,4))"
   ]
  },
  {
   "cell_type": "code",
   "execution_count": 6,
   "metadata": {
    "collapsed": false
   },
   "outputs": [],
   "source": [
    "def right_quicksort (L, h, t):\n",
    "    try:\n",
    "        i = h\n",
    "        j = t    \n",
    "        p = int((L[i] + L[j]) / 2)\n",
    "\n",
    "        while i < j:\n",
    "            while L[i] < p:\n",
    "                i+=1\n",
    "            while L[j] > p:\n",
    "                j-=1\n",
    "            if i <= j:\n",
    "                x = L[j]\n",
    "                L[j] = L[i]\n",
    "                L[i] = x\n",
    "                i+=1\n",
    "                j-=1\n",
    "                \n",
    "        assert invariant(L,p,h,t)\n",
    "            \n",
    "        if h < j:\n",
    "            right_quicksort(L, h, j)\n",
    "\n",
    "        if t > i:\n",
    "             right_quicksort(L, i, t)\n",
    "        assert invariant(L,p,h,t)\n",
    "        \n",
    "    except  AssertionError:\n",
    "        print (\"Error en la invariante\")"
   ]
  },
  {
   "cell_type": "code",
   "execution_count": 7,
   "metadata": {
    "collapsed": false
   },
   "outputs": [
    {
     "name": "stdout",
     "output_type": "stream",
     "text": [
      "R: [1, 3, 5, 12, 13, 24, 55, 76, 87]\n"
     ]
    }
   ],
   "source": [
    "L = [13,24,1,76,55,12,87,5,3]\n",
    "right_quicksort(L,0,len(L)-1)\n",
    "print (\"R:\",L)"
   ]
  },
  {
   "cell_type": "code",
   "execution_count": 8,
   "metadata": {
    "collapsed": true
   },
   "outputs": [],
   "source": [
    "def wrong_quicksort (L, h, t):\n",
    "    original_A=list(L)\n",
    "    try:\n",
    "        i = h\n",
    "        j = t    \n",
    "        p = int((L[i] + L[j]) / 2)\n",
    "\n",
    "        while i < j:\n",
    "            while L[i] < p:\n",
    "                i+=1\n",
    "            while L[j] > p:\n",
    "                j-=1\n",
    "            if i <= j:\n",
    "                i+=1\n",
    "                j-=1\n",
    "                \n",
    "        assert invariant(L,p,h,t)\n",
    "            \n",
    "        if h < j:\n",
    "            wrong_quicksort(L, h, j)\n",
    "\n",
    "        if t > i:\n",
    "             wrong_quicksort(L, i, t)\n",
    "                \n",
    "        assert invariant(L,p,h,t)\n",
    "        \n",
    "    except  AssertionError:\n",
    "        print (\"Error en el invariante de ciclo!\")\n",
    "        print (\"i\", i)\n",
    "        print (\"j\",j)\n",
    "        print (\"p\",p)\n",
    "        print (\"Original: \",original_A[h:t+1])\n",
    "        print (\"L:\",L[h:t+1])\n",
    "        "
   ]
  },
  {
   "cell_type": "code",
   "execution_count": 9,
   "metadata": {
    "collapsed": false
   },
   "outputs": [
    {
     "name": "stdout",
     "output_type": "stream",
     "text": [
      "Error en el invariante de ciclo!\n",
      "i 3\n",
      "j 2\n",
      "p 8\n",
      "Original:  [13, 24, 1, 76, 55, 12, 87, 5, 3]\n",
      "L: [13, 24, 1, 76, 55, 12, 87, 5, 3]\n",
      "[13, 24, 1, 76, 55, 12, 87, 5, 3]\n"
     ]
    }
   ],
   "source": [
    "L = [13,24,1,76,55,12,87,5,3]\n",
    "wrong_quicksort(L,0,len(L)-1)\n",
    "print (L)"
   ]
  },
  {
   "cell_type": "markdown",
   "metadata": {},
   "source": [
    "<h2>Análisis del tiempo de ejecución</h2>"
   ]
  },
  {
   "cell_type": "code",
   "execution_count": 10,
   "metadata": {
    "collapsed": false
   },
   "outputs": [],
   "source": [
    "class Counter:\n",
    "    \n",
    "    def __init__(self):\n",
    "        self.steps = 0\n",
    "\n",
    "    def reset(self):\n",
    "        self.steps = 0\n",
    "\n",
    "    def count(self):\n",
    "        self.steps += 1\n",
    "\n",
    "    def print_steps(self):\n",
    "        print (\"Number of steps =\", self.steps)\n",
    "\n",
    "def acct_quicksort(L, h, t,acct):\n",
    "   \n",
    "    i = h; acct.count()\n",
    "    j = t  ; acct.count()  \n",
    "    p = int((L[i] + L[j]) / 2); acct.count()\n",
    "    while i < j:\n",
    "        acct.count()\n",
    "        while L[i] < p:\n",
    "            acct.count()\n",
    "            i+=1; acct.count()\n",
    "        acct.count()\n",
    "        while L[j] > p:\n",
    "            acct.count()\n",
    "            j-=1; acct.count()\n",
    "        if i <= j:\n",
    "            acct.count()\n",
    "            x = L[j]; acct.count()\n",
    "            L[j] = L[i]; acct.count()\n",
    "            L[i] = x; acct.count()\n",
    "            i+=1; acct.count()\n",
    "            j-=1; acct.count()\n",
    "    if h < j:\n",
    "        acct.count()\n",
    "        acct_quicksort(L, h, j,acct); acct.count()\n",
    "\n",
    "    if t > i:\n",
    "        acct.count()\n",
    "        acct_quicksort(L, i, t,acct); acct.count()\n",
    "    "
   ]
  },
  {
   "cell_type": "code",
   "execution_count": 14,
   "metadata": {
    "collapsed": false
   },
   "outputs": [
    {
     "name": "stdout",
     "output_type": "stream",
     "text": [
      "Number of steps = 227\n"
     ]
    }
   ],
   "source": [
    "import numpy as np\n",
    "L = np.random.permutation(range(0,11))\n",
    "acct = Counter()\n",
    "acct_quicksort(L, 0,len(L)-1,acct)\n",
    "acct.print_steps()"
   ]
  },
  {
   "cell_type": "markdown",
   "metadata": {},
   "source": [
    "<b>Análisis experimental</b><br>\n",
    "Analisis del comportamiento del algoritmo cuando el tamaño de la entrada varía. La siguiente función genera arreglos al azar de tamaño 1 a n. "
   ]
  },
  {
   "cell_type": "code",
   "execution_count": 15,
   "metadata": {
    "collapsed": true
   },
   "outputs": [],
   "source": [
    "import random\n",
    "\n",
    "def exper_analysis(n):\n",
    "    results = [0]\n",
    "    acct = Counter()\n",
    "    for i in range(n):\n",
    "        if i>0:\n",
    "            l = list(range(i))\n",
    "            random.shuffle(l)\n",
    "            acct.reset()\n",
    "            acct_quicksort(l,0,len(l)-1, acct)\n",
    "            results.append(acct.steps)\n",
    "    return results"
   ]
  },
  {
   "cell_type": "code",
   "execution_count": 16,
   "metadata": {
    "collapsed": false
   },
   "outputs": [
    {
     "name": "stdout",
     "output_type": "stream",
     "text": [
      "[0, 3, 13, 28, 36, 64, 109, 117, 130, 154, 171]\n"
     ]
    }
   ],
   "source": [
    "print (exper_analysis(11))"
   ]
  },
  {
   "cell_type": "markdown",
   "metadata": {},
   "source": [
    "<h1>Analisis de tiempo</h1>\n",
    "<p>Ahora vamos a analizar el tiempo del algoritmo cuando el tamaño de la entrada varía. </p>"
   ]
  },
  {
   "cell_type": "code",
   "execution_count": 17,
   "metadata": {
    "collapsed": true
   },
   "outputs": [],
   "source": [
    "import time\n",
    "tic = time.clock()#get start time\n",
    "toc = time.clock()#get final time\n",
    "def timer_analysis(n):\n",
    "    results = [0]\n",
    "    acct = Counter()\n",
    "    for i in range(n):\n",
    "        if i>0:\n",
    "            l = list(range(i))\n",
    "            random.shuffle(l)\n",
    "            acct.reset()\n",
    "            tic = time.clock()\n",
    "            acct_quicksort(l,0,len(l)-1, acct)\n",
    "            toc = time.clock()\n",
    "            results.append((toc-tic))\n",
    "    return results"
   ]
  },
  {
   "cell_type": "markdown",
   "metadata": {},
   "source": [
    "<h1>Grafica</h1><br>\n",
    "La siguiente gráfica representa el número de operaciones (azul), tiempo (rojo) y T(n) (negro) que el algoritmo  \"quicksort\" emplea para ordenar arreglos de tamaño n, en el peor de los casos."
   ]
  },
  {
   "cell_type": "code",
   "execution_count": 34,
   "metadata": {
    "collapsed": false
   },
   "outputs": [
    {
     "data": {
      "image/png": "iVBORw0KGgoAAAANSUhEUgAAAYcAAAD8CAYAAACcjGjIAAAABHNCSVQICAgIfAhkiAAAAAlwSFlz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\njIKDiIg08/8BzSzQVrrpFrkAAAAASUVORK5CYII=\n",
      "text/plain": [
       "<matplotlib.figure.Figure at 0x69f0ce3e48>"
      ]
     },
     "metadata": {},
     "output_type": "display_data"
    }
   ],
   "source": [
    "import pylab \n",
    "import math\n",
    "pylab.clf()\n",
    "x = np.arange(100)\n",
    "y = np.array(timer_analysis(100))*800000\n",
    "\n",
    "a = np.arange(100)\n",
    "b = np.array(exper_analysis(100))\n",
    "\n",
    "c = np.arange(100)\n",
    "d = (c*c)\n",
    "\n",
    "pylab.plot(x, y, 'r-',a,b,'b-',c,d,'k.')\n",
    "pylab.show()"
   ]
  },
  {
   "cell_type": "code",
   "execution_count": null,
   "metadata": {
    "collapsed": true
   },
   "outputs": [],
   "source": []
  }
 ],
 "metadata": {
  "anaconda-cloud": {},
  "kernelspec": {
   "display_name": "Python 3",
   "language": "python",
   "name": "python3"
  },
  "language_info": {
   "codemirror_mode": {
    "name": "ipython",
    "version": 3
   },
   "file_extension": ".py",
   "mimetype": "text/x-python",
   "name": "python",
   "nbconvert_exporter": "python",
   "pygments_lexer": "ipython3",
   "version": "3.6.0"
  }
 },
 "nbformat": 4,
 "nbformat_minor": 1
}
